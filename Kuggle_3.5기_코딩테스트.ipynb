{
 "cells": [
  {
   "cell_type": "markdown",
   "metadata": {},
   "source": [
    "# Kuggle 3.5기 코딩 테스트\n",
    "\n",
    "#### Kuggle 3.5기에 지원해주셔서 감사합니다 :)"
   ]
  },
  {
   "cell_type": "markdown",
   "metadata": {},
   "source": [
    "### 1. 다음의 문제를 해결해주세요!"
   ]
  },
  {
   "cell_type": "markdown",
   "metadata": {},
   "source": [
    "Score 리스트에는 20개의 점수가 담겨 있습니다. \n",
    "- pof 리스트에는 60점이 넘으면 PASS, 넘지 못하면 FAIL로 저장해주세요.\n",
    "- eoo 리스트에는 점수가 짝수면 EVEN, 홀수면 ODD로 저장해주세요."
   ]
  },
  {
   "cell_type": "code",
   "execution_count": 46,
   "metadata": {},
   "outputs": [],
   "source": [
    "# 이 셀을 실행해주셔야 합니다!\n",
    "import random\n",
    "score = [random.randint(0,100) for i in range(20)] "
   ]
  },
  {
   "cell_type": "code",
   "execution_count": 47,
   "metadata": {},
   "outputs": [
    {
     "data": {
      "text/plain": [
       "[92, 29, 83, 73, 98, 18, 91, 38, 71, 27, 11, 90, 76, 33, 49, 9, 50, 0, 79, 35]"
      ]
     },
     "execution_count": 47,
     "metadata": {},
     "output_type": "execute_result"
    }
   ],
   "source": [
    "score"
   ]
  },
  {
   "cell_type": "code",
   "execution_count": 48,
   "metadata": {},
   "outputs": [
    {
     "data": {
      "text/plain": [
       "['PASS',\n",
       " 'FAIL',\n",
       " 'PASS',\n",
       " 'PASS',\n",
       " 'PASS',\n",
       " 'FAIL',\n",
       " 'PASS',\n",
       " 'FAIL',\n",
       " 'PASS',\n",
       " 'FAIL',\n",
       " 'FAIL',\n",
       " 'PASS',\n",
       " 'PASS',\n",
       " 'FAIL',\n",
       " 'FAIL',\n",
       " 'FAIL',\n",
       " 'FAIL',\n",
       " 'FAIL',\n",
       " 'PASS',\n",
       " 'FAIL']"
      ]
     },
     "execution_count": 48,
     "metadata": {},
     "output_type": "execute_result"
    }
   ],
   "source": [
    "pof=[\"PASS\" if i>= 60 else \"FAIL\" for i in score]\n",
    "pof"
   ]
  },
  {
   "cell_type": "code",
   "execution_count": 50,
   "metadata": {},
   "outputs": [
    {
     "data": {
      "text/plain": [
       "['EVEN',\n",
       " 'ODD',\n",
       " 'ODD',\n",
       " 'ODD',\n",
       " 'EVEN',\n",
       " 'EVEN',\n",
       " 'ODD',\n",
       " 'EVEN',\n",
       " 'ODD',\n",
       " 'ODD',\n",
       " 'ODD',\n",
       " 'EVEN',\n",
       " 'EVEN',\n",
       " 'ODD',\n",
       " 'ODD',\n",
       " 'ODD',\n",
       " 'EVEN',\n",
       " 'EVEN',\n",
       " 'ODD',\n",
       " 'ODD']"
      ]
     },
     "execution_count": 50,
     "metadata": {},
     "output_type": "execute_result"
    }
   ],
   "source": [
    "eoo=[\"EVEN\" if i%2==0 else \"ODD\" for i in score]\n",
    "eoo"
   ]
  },
  {
   "cell_type": "markdown",
   "metadata": {},
   "source": [
    "### 2. emp는 현재 직원들로 구성된 딕셔너리입니다. 직원을 관리하는 프로그램을 만들어 주세요.\n",
    "- 1번이 입력되면, '이름, 나이, 전화번호, 연봉'을 입력받아 딕셔너리에 추가합니다.\n",
    "- 2번이 입력되면, '퇴사한 직원의 이름'을 물은 후 해당 직원의 정보를 삭제합니다. 단, '없는 직원의 이름'이 입력되면, '없는 사원입니다'를 출력해주세요.\n",
    "- 3번이 입력되면, '급여를 인상할 직원의 이름'과 '얼마나 인상할 지'를 입력받아, 해당 직원의 급여를 인상해주세요.\n",
    "- 4번이 입력되면, 직원의 이름으로만 구성된 리스트를 출력합니다.\n",
    "- 그 외의 다른 번호가 입력되면, '잘못된 숫자를 입력하셨습니다'를 출력해주세요."
   ]
  },
  {
   "cell_type": "code",
   "execution_count": 37,
   "metadata": {},
   "outputs": [],
   "source": [
    "emp={\"김영호\":[24,\"010-1234-5678\",4400],\"이정현\":[22,\"010-1111-2222\",4800],\n",
    "     \"최진영\":[20,\"010-3333-4444\",4200],\"고수원\":[27,\"010-5555-6666\",5600],\n",
    "     \"정지선\":[23,\"010-7866-7563\",4600],\"박주원\":[26,\"010-4568-1140\",5300]}"
   ]
  },
  {
   "cell_type": "code",
   "execution_count": 38,
   "metadata": {},
   "outputs": [],
   "source": [
    "def emp_managing(num):\n",
    "    if num==1:\n",
    "        print(\"직원 정보를 추가합니다.\")\n",
    "        name=input(\"이름:\")\n",
    "        age=int(input(\"나이:\"))\n",
    "        phone=input(\"전화번호:\")\n",
    "        salary=int(input(\"연봉:\"))\n",
    "        emp[name]=[age,phone,salary]\n",
    "        print(emp)\n",
    "    elif num==2:\n",
    "        who=input(\"퇴사한 직원의 이름은 무엇입니까?\")\n",
    "        try:\n",
    "            del emp[who]\n",
    "            print(emp)\n",
    "        except:\n",
    "            print(\"없는 사원입니다.\")\n",
    "    elif num==3:\n",
    "        who=input(\"어떤 직원의 급여를 인상할까요?\")\n",
    "        hm=int(input(\"얼마나 인상할까요?\"))\n",
    "        emp[who][2]+=hm\n",
    "        print(emp[who])\n",
    "    elif num==4:\n",
    "        print(\"직원의 이름 리스트를 출력합니다\")\n",
    "        print(list(emp.keys()))\n",
    "    else:\n",
    "        print(\"잘못된 숫자를 입력하셨습니다\")     "
   ]
  },
  {
   "cell_type": "markdown",
   "metadata": {},
   "source": [
    "### 3. 입력받은 순서까지의 피보나치 수열을 생성하고 해당 숫자를 이진수로 변환하여 새로운 리스트에 담아라."
   ]
  },
  {
   "cell_type": "code",
   "execution_count": 51,
   "metadata": {},
   "outputs": [],
   "source": [
    "def fib(n):\n",
    "    if n==0: return 0\n",
    "    if n==1: return 1\n",
    "    return fib(n-2)+fib(n-1)"
   ]
  },
  {
   "cell_type": "code",
   "execution_count": 64,
   "metadata": {},
   "outputs": [
    {
     "name": "stdout",
     "output_type": "stream",
     "text": [
      "숫자를 입력하시오:5\n",
      "[0, 1, 1, 2, 3]\n"
     ]
    }
   ],
   "source": [
    "seq=[]\n",
    "bi=[]\n",
    "num=int(input(\"숫자를 입력하시오:\"))\n",
    "for i in range(num):\n",
    "    seq.append(fib(i))\n",
    "print(seq)"
   ]
  },
  {
   "cell_type": "code",
   "execution_count": 65,
   "metadata": {},
   "outputs": [],
   "source": [
    "for n in seq:\n",
    "    ans=\"\"\n",
    "    if n==0:\n",
    "        ans+='0'\n",
    "        bi.append(ans)\n",
    "    elif n==1:\n",
    "        ans+='1'\n",
    "        bi.append(ans)\n",
    "    else:\n",
    "        while True:\n",
    "            if n%2==0:\n",
    "                ans+='0'\n",
    "                n=n/2\n",
    "            else:\n",
    "                ans+='1'\n",
    "                n=n//2\n",
    "            if n==1:\n",
    "                ans+='1'\n",
    "                ans=ans[::-1]\n",
    "                break\n",
    "        bi.append(ans)"
   ]
  },
  {
   "cell_type": "code",
   "execution_count": 66,
   "metadata": {},
   "outputs": [
    {
     "data": {
      "text/plain": [
       "['0', '1', '1', '10', '11']"
      ]
     },
     "execution_count": 66,
     "metadata": {},
     "output_type": "execute_result"
    }
   ],
   "source": [
    "bi"
   ]
  },
  {
   "cell_type": "markdown",
   "metadata": {},
   "source": [
    "### 4. 빈 리스트 a,b 가 있다. 0~9의 숫자 중 짝수는 a 리스트에, 홀수는 b 리스트에 들어가도록 하시오.(0은 짝수라 가정) \n"
   ]
  },
  {
   "cell_type": "code",
   "execution_count": 2,
   "metadata": {},
   "outputs": [
    {
     "name": "stdout",
     "output_type": "stream",
     "text": [
      "[0, 2, 4, 6, 8] [1, 3, 5, 7, 9]\n"
     ]
    }
   ],
   "source": [
    "a=[]; b=[]\n",
    "for i in range(0,10):\n",
    "    if i%2==0:\n",
    "        a.append(i)\n",
    "    else:\n",
    "        b.append(i)\n",
    "print(a,b) "
   ]
  },
  {
   "cell_type": "markdown",
   "metadata": {},
   "source": [
    "### 5. 10 미만의 자연수에서 3과 5의 배수를 구하면 3, 5, 6, 9이다. 이들의 총합은 23이다.1000 미만의 자연수에서 3의 배수와 5의 배수의 총합을 구하라."
   ]
  },
  {
   "cell_type": "code",
   "execution_count": 4,
   "metadata": {},
   "outputs": [
    {
     "data": {
      "text/plain": [
       "233168"
      ]
     },
     "execution_count": 4,
     "metadata": {},
     "output_type": "execute_result"
    }
   ],
   "source": [
    "result = []\n",
    "for i in range(1000):\n",
    "    if i%3 == 0 or i%5 ==0:\n",
    "        result.append(i)\n",
    "result_sum = sum(result)\n",
    "result_sum"
   ]
  },
  {
   "cell_type": "code",
   "execution_count": 5,
   "metadata": {},
   "outputs": [
    {
     "data": {
      "text/plain": [
       "233168"
      ]
     },
     "execution_count": 5,
     "metadata": {},
     "output_type": "execute_result"
    }
   ],
   "source": [
    "hap = [n for n in range(1000) if n%3 == 0 or n%5 == 0]\n",
    "sum(hap)"
   ]
  },
  {
   "cell_type": "markdown",
   "metadata": {},
   "source": [
    "### 6. 지불금액과 상품가격을 인수로 받아서 거스름돈으로 500원,100원,50원,10원을 몇 개씩 줘야하는지 반환하는 함수를 작성하세요."
   ]
  },
  {
   "cell_type": "code",
   "execution_count": 7,
   "metadata": {},
   "outputs": [],
   "source": [
    "def charger(상,지):\n",
    "    five = (상-지)//500\n",
    "    one = ((상-지)-500*five)//100\n",
    "    fiveten = ((상-지)-500*five-100*one)//50\n",
    "    oneten = ((상-지)-500*five-100*one-50*fiveten)//10\n",
    "    return f\"'500원:{five}개,'100원:{one}개,'50원:{fiveten}개,'10원:{oneten}개\"\n"
   ]
  },
  {
   "cell_type": "code",
   "execution_count": 8,
   "metadata": {},
   "outputs": [
    {
     "name": "stdout",
     "output_type": "stream",
     "text": [
      "'500원:5개,'100원:4개,'50원:1개,'10원:1개\n"
     ]
    }
   ],
   "source": [
    "b = charger(5000,2040)\n",
    "print(b)"
   ]
  }
 ],
 "metadata": {
  "kernelspec": {
   "display_name": "Python 3",
   "language": "python",
   "name": "python3"
  },
  "language_info": {
   "codemirror_mode": {
    "name": "ipython",
    "version": 3
   },
   "file_extension": ".py",
   "mimetype": "text/x-python",
   "name": "python",
   "nbconvert_exporter": "python",
   "pygments_lexer": "ipython3",
   "version": "3.7.3"
  }
 },
 "nbformat": 4,
 "nbformat_minor": 2
}
